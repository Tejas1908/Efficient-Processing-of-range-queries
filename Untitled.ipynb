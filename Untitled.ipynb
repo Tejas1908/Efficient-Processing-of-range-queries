{
 "cells": [
  {
   "cell_type": "code",
   "execution_count": 146,
   "metadata": {
    "scrolled": false
   },
   "outputs": [],
   "source": [
    "import time\n",
    "import matplotlib.pyplot as plt\n",
    "import math\n",
    "from math import log\n",
    "import numpy as np\n",
    "\n",
    "\n",
    "alphabet=list('abcdefghijklmonpqrstuvwxyz'.split())\n",
    "\n",
    "def generate_keyoflength(start,end,length,exhaustive_list):\n",
    "    \n",
    "    len1=len(start)\n",
    "    origin=start[0]\n",
    "    \n",
    "    present_length=1\n",
    "    key_list=[chr(x) for x in range(ord(origin),ord(end[0])+1)]\n",
    "    exhaustive_list+=key_list\n",
    "    exhaustive_list=[exhaustive_list[i] for i in range(len(exhaustive_list)) if exhaustive_list[i]>=start and exhaustive_list[i]<=end]\n",
    "#     print('hey',exhaustive_list)\n",
    "    temp=extend_length(key_list,present_length+1,length,start,end,exhaustive_list)\n",
    "    key_list=temp[0]\n",
    "    exhaustive_list=temp[1]\n",
    "#     print('hi',exhaustive_list)\n",
    "#     print(key_list)\n",
    "    \n",
    "#     temp=[key_list[i] for i in range(len(key_list)) if key_list[i][0]=='m']\n",
    "    \n",
    "#     print(len(temp))\n",
    "#     print(len(key_list))\n",
    "    \n",
    "    return exhaustive_list\n",
    "\n",
    "def extend_length(key_list,new_length,final_length,start,end,exhaustive_list):\n",
    "    \n",
    "    if new_length>final_length:\n",
    "        return key_list,exhaustive_list\n",
    "    \n",
    "    for i in range(len(key_list)):\n",
    "        temp=[key_list[i]+chr(x) for x in range(ord('a'),ord('z')+1)]\n",
    "        temp=[temp[i] for i in range(len(temp)) if (temp[i]>=start or temp[i] in start) and temp[i]<=end]\n",
    "        key_list[i]=temp\n",
    "        \n",
    "    key_list=[element for sub in key_list for element in sub]\n",
    "    exhaustive_list+=key_list\n",
    "    exhaustive_list=[exhaustive_list[i] for i in range(len(exhaustive_list)) if exhaustive_list[i]>=start and exhaustive_list[i]<=end]\n",
    "\n",
    "    temp=extend_length(key_list,new_length+1,final_length,start,end,exhaustive_list)\n",
    "    key_list=temp[0]\n",
    "    exhaustive_list=temp[1]\n",
    "    \n",
    "    \n",
    "    return key_list,exhaustive_list\n",
    "\n",
    "def generate_all_keys(start,end,length):\n",
    "    \n",
    "    exhaustive_list=[]\n",
    "    \n",
    "    exhaustive_list=generate_keyoflength(start,end,length,exhaustive_list)\n",
    "    \n",
    "#     print(exhaustive_list)\n",
    "#     exhaustive_list.sort()\n",
    "#     print(exhaustive_list)\n",
    "    return len(exhaustive_list)\n",
    "    \n",
    "    \n"
   ]
  },
  {
   "cell_type": "code",
   "execution_count": 147,
   "metadata": {},
   "outputs": [],
   "source": [
    "word_limits=[['reptile','revenge'],['cat','dog'],['apple','application'],['m','o']]\n",
    "\n",
    "# lower=word_limits[0][0]\n",
    "# upper=word_limits[0][1]\n",
    "\n",
    "data=[]\n",
    "\n",
    "for length in range(2,6):\n",
    "    temp=[]\n",
    "    for limit in word_limits:\n",
    "        lower=limit[0]\n",
    "        upper=limit[1]\n",
    "#     start_time=time.time()\n",
    "        number_ofkeys=generate_all_keys(lower,upper,length)\n",
    "        if number_ofkeys>0:\n",
    "            number_ofkeys=log(number_ofkeys)\n",
    "        temp.append(number_ofkeys)\n",
    "#     end_time=time.time()\n",
    "#     print((end_time-start_time))\n",
    "\n",
    "    data.append(temp)\n",
    "    \n",
    "# print(min(min(data)))\n",
    "\n",
    "    \n"
   ]
  },
  {
   "cell_type": "code",
   "execution_count": 148,
   "metadata": {},
   "outputs": [
    {
     "data": {
      "text/plain": [
       "<BarContainer object of 4 artists>"
      ]
     },
     "execution_count": 148,
     "metadata": {},
     "output_type": "execute_result"
    },
    {
     "data": {
      "image/png": "[encoded data removed]",
      "text/plain": [
       "<Figure size 432x288 with 1 Axes>"
      ]
     },
     "metadata": {
      "needs_background": "light"
     },
     "output_type": "display_data"
    }
   ],
   "source": [
    "X = np.arange(4)\n",
    "fig = plt.figure()\n",
    "ax = fig.add_axes([0,0,1,1])\n",
    "ax.bar(X + 0.00, data[0], color = 'b', width = 0.25)\n",
    "ax.bar(X + 0.25, data[1], color = 'g', width = 0.25)\n",
    "ax.bar(X + 0.50, data[2], color = 'r', width = 0.25)\n",
    "ax.bar(X + 0.75, data[3], color = 'k', width = 0.25)\n",
    "    \n",
    "    "
   ]
  },
  {
   "cell_type": "code",
   "execution_count": 67,
   "metadata": {},
   "outputs": [
    {
     "data": {
      "text/plain": [
       "True"
      ]
     },
     "execution_count": 67,
     "metadata": {},
     "output_type": "execute_result"
    }
   ],
   "source": [
    "'ca'>'c'"
   ]
  },
  {
   "cell_type": "code",
   "execution_count": 4,
   "metadata": {
    "scrolled": false
   },
   "outputs": [
    {
     "data": {
      "text/plain": [
       "['1d', '1e', '1f', '1g', '1h', '1i', '1j', '1k']"
      ]
     },
     "execution_count": 4,
     "metadata": {},
     "output_type": "execute_result"
    }
   ],
   "source": [
    "x=['1'+chr(x) for x in range(ord('d'),ord('k')+1)]\n",
    "x"
   ]
  },
  {
   "cell_type": "code",
   "execution_count": 134,
   "metadata": {},
   "outputs": [
    {
     "data": {
      "text/plain": [
       "1"
      ]
     },
     "execution_count": 134,
     "metadata": {},
     "output_type": "execute_result"
    }
   ],
   "source": [
    "a=[[1,2,3],[4,5,6]]\n",
    "min(min(a))"
   ]
  }
 ],
 "metadata": {
  "kernelspec": {
   "display_name": "Python 3",
   "language": "python",
   "name": "python3"
  },
  "language_info": {
   "codemirror_mode": {
    "name": "ipython",
    "version": 3
   },
   "file_extension": ".py",
   "mimetype": "text/x-python",
   "name": "python",
   "nbconvert_exporter": "python",
   "pygments_lexer": "ipython3",
   "version": "3.7.0"
  }
 },
 "nbformat": 4,
 "nbformat_minor": 2
}
